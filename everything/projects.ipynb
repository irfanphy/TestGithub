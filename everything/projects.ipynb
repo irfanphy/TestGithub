{
 "cells": [
  {
   "cell_type": "markdown",
   "metadata": {},
   "source": [
    "# List of projects for day 1\n",
    "\n",
    "## Introduction to python\n",
    "\n",
    "Download the [notebook used for the introduction top python](https://gitlab.com/anton-akhmerov/casimir_programming_course/raw/master/Introduction%20to%20python.ipynb) and play with the examples.\n",
    "\n",
    "## Project Euler\n",
    "\n",
    "Go to https://projecteuler.net/. It's a website offering a collection of mathy programming challenges, starting from very simple ones and ending with very hard ones. The first 10-20 problems are a great playground for playing with a new programming language. The problems above 50-100 require advanced knowledge of math and algorithms.\n",
    "\n",
    "\n",
    "## Loading and plotting 2D data in various ways\n",
    "\n",
    "In this exercise you will use python to read (real!) data from a file, and plot it in various ways. For this you will use the python packages [numpy](http://docs.scipy.org/doc/numpy/) and [matplotlib](http://matplotlib.org/contents.html).\n",
    "\n",
    "In particular, you will work with 2D data, i.e. data that depends on two parameters. Such data is often stored using three arrays: Two 1D arrays ``X`` and ``Y``, and one 2D array ``C`` such that for the parameters ``X[i]`` and ``Y[j]`` the data is stored in ``C[j, i]`` (Note the order of ``i`` and ``j`` here - in this convention the x-coordinate in the matrix is along the rows, i.e.  varying the column index).\n",
    "\n",
    "In this exercise, you will work with two sets of 2D data, ``Rxx`` and ``RH``, that depend on the same parameters (For those who are interested, I give a background below. It's not necessary to understand that background, though). \n",
    "\n",
    "Depending on your ambition, you can load the data in an easy way (where we did the work for you), or doing it the harder way from the raw data. \n",
    "\n",
    "#### Easy way \n",
    "\n",
    "The files [X.dat](https://gitlab.com/anton-akhmerov/casimir_programming_course/raw/master/exercises/X.dat) and [Y.dat](https://gitlab.com/anton-akhmerov/casimir_programming_course/raw/master/exercises/Y.dat) contain the values of the `x` and `y` parameters, and [Rxx.dat](https://gitlab.com/anton-akhmerov/casimir_programming_course/raw/master/exercises/Rxx.dat) and [RH.dat](https://gitlab.com/anton-akhmerov/casimir_programming_course/raw/master/exercises/RH.dat) are the two different sets of data for the same parameters. Those files are formatted in a way that you can simply load them with ``numpy.loadtxt``. \n",
    "\n",
    "#### Harder way\n",
    "\n",
    "The file [landaufan.dat](https://gitlab.com/anton-akhmerov/casimir_programming_course/raw/master/exercises/landaufan.dat) contains the raw data. The first column is the `x` parameter, the second column is the `y` parameter, the fourth column is ``Rxx``, and the fifth column is ``RH``. \n",
    "\n",
    "There are also rows without data, such as comment lines starting with a ``#``. Read the data from the file, and make a 2D numpy array for ``Rxx`` and ``RH``.\n",
    "\n",
    "#### Tasks\n",
    "\n",
    "* Load the data\n",
    "* Make a 2D plot of the data using ``matplotlib``. Check the functions ``pcolor``, ``pcolormesh`` and ``imshow``\n",
    "* Plot linecuts through the data, i.e. depending only on one parameter, keeping the other parameter fixed\n",
    "* Plot a set of line cuts in one plot (use loops)\n",
    "* Plot line cuts from both data sets into one plot\n",
    "* Plot the data as is or divided by 12906.\n",
    "* Be creative!\n",
    "\n",
    "#### Physics background\n",
    "\n",
    "The data was measured by Arjan Beukmann. He measured the longitudinal resistance (``Rxx`` in units of Ohms) and the Hall resistance (``RH`` in units of Ohms) as a function of gate voltage (``X``) and magnetic field (``Y`` in Tesla).\n",
    "\n",
    "\n",
    "## Processing data\n",
    "\n",
    "The following ten data sets contain different ``Rxx`` as a function of ``B``. ``B`` is\n",
    "stored in the first column, ``Rxx`` is stored in the fourth column:\n",
    "\n",
    "[SdH1.dat](https://gitlab.com/anton-akhmerov/casimir_programming_course/raw/master/exercises/SdH1.dat), [SdH2.dat](https://gitlab.com/anton-akhmerov/casimir_programming_course/raw/master/exercises/SdH2.dat), [SdH3.dat](https://gitlab.com/anton-akhmerov/casimir_programming_course/raw/master/exercises/SdH3.dat), [SdH4.dat](https://gitlab.com/anton-akhmerov/casimir_programming_course/raw/master/exercises/SdH4.dat), [SdH5.dat](https://gitlab.com/anton-akhmerov/casimir_programming_course/raw/master/exercises/SdH5.dat), [SdH6.dat](https://gitlab.com/anton-akhmerov/casimir_programming_course/raw/master/exercises/SdH6.dat), [SdH7.dat](https://gitlab.com/anton-akhmerov/casimir_programming_course/raw/master/exercises/SdH7.dat), [SdH8.dat](https://gitlab.com/anton-akhmerov/casimir_programming_course/raw/master/exercises/SdH8.dat), [SdH9.dat](https://gitlab.com/anton-akhmerov/casimir_programming_course/raw/master/exercises/SdH9.dat), [SdH10.dat](https://gitlab.com/anton-akhmerov/casimir_programming_course/raw/master/exercises/SdH10.dat)\n",
    "\n",
    "#### Tasks\n",
    "\n",
    "* Read the data into numpy arrays\n",
    "* Compute the Fourier transform of ``Rxx`` as a function of ``1/B`` for one data set. Use various ranges of ``B`` (e.g. only for ``B>0.2``)\n",
    "* Harder: Do this for all data sets and combine all 10 data sets into a 2D plot. (The data sets have different length, so this is not straight-forward)\n",
    "\n",
    "#### Physics background\n",
    "\n",
    "The data was measured by Arjan Beukmann. He measured the longitudinal resistance (``Rxx`` in units of Ohms) as a function of magnetic field (``B`` in Tesla).\n",
    "\n",
    "## Basic cryptography\n",
    "\n",
    "#### Caesar's cipher\n",
    "\n",
    "The following text is encrypted by shifting all letters in the alphabet by a fixed amount\n",
    "(e.g. a shift by 2 would give A -> C, B -> D, ..., Z -> B). Decrypt it by trying out all possible shifts! (Just copy the assignment below to use the text in your python program)"
   ]
  },
  {
   "cell_type": "code",
   "execution_count": 5,
   "metadata": {
    "collapsed": true
   },
   "outputs": [],
   "source": [
    "encrypted_text1 = \"\"\"\n",
    "RW. XMJWQTHP MTQRJX, BMT BFX ZXZFQQD AJWD QFYJ NS YMJ RTWSNSLX, XFAJ ZUTS YMTXJ\n",
    "STY NSKWJVZJSY THHFXNTSX BMJS MJ BFX ZU FQQ SNLMY, BFX XJFYJI FY YMJ GWJFPKFXY YFGQJ.\n",
    "N XYTTI ZUTS YMJ MJFWYM-WZL FSI UNHPJI ZU YMJ XYNHP BMNHM TZW ANXNYTW MFI QJKY GJMNSI\n",
    "MNR YMJ SNLMY GJKTWJ. NY BFX F KNSJ, YMNHP UNJHJ TK BTTI, GZQGTZX-MJFIJI, TK YMJ XTWY\n",
    "BMNHM NX PSTBS FX F \"UJSFSL QFBDJW.\" OZXY ZSIJW YMJ MJFI BFX F GWTFI XNQAJW GFSI SJFWQD\n",
    "FS NSHM FHWTXX. \"YT OFRJX RTWYNRJW, R.W.H.X., KWTR MNX KWNJSIX TK YMJ H.H.M.,\" BFX\n",
    "JSLWFAJI ZUTS NY, BNYM YMJ IFYJ \"1884.\" NY BFX OZXY XZHM F XYNHP FX YMJ TQI-KFXMNTSJI\n",
    "KFRNQD UWFHYNYNTSJW ZXJI YT HFWWD—INLSNKNJI, XTQNI, FSI WJFXXZWNSL. \n",
    "\n",
    "\"BJQQ, BFYXTS, BMFY IT DTZ RFPJ TK NY?\" \n",
    "\"\"\""
   ]
  },
  {
   "cell_type": "markdown",
   "metadata": {},
   "source": [
    "#### Substitution cipher\n",
    "\n",
    "Now let's look at a more complicated cipher where we replace (uniquely) every letter by some random letter. Decrypt the following text!\n"
   ]
  },
  {
   "cell_type": "code",
   "execution_count": 8,
   "metadata": {
    "collapsed": true
   },
   "outputs": [],
   "source": [
    "encrypted_text2 = \"\"\"\n",
    "  \"IEGG ZE, DMISTW, DBMI FT RTN ZMOE TQ TNY LPSPITY'S SIPHO? SPWHE DE BMLE XEEW ST\n",
    "NWQTYINWMIE MS IT ZPSS BPZ MWF BMLE WT WTIPTW TQ BPS EYYMWF, IBPS MHHPFEWIMG STNLEWPY\n",
    "XEHTZES TQ PZJTYIMWHE. GEI ZE BEMY RTN YEHTWSIYNHI IBE ZMW XR MW EUMZPWMIPTW TQ PI.\"\n",
    "  \"P IBPWO,\" SMPF P, QTGGTDPWV MS QMY MS P HTNGF IBE ZEIBTFS TQ ZR HTZJMWPTW, \"IBMI FY.\n",
    "ZTYIPZEY PS M SNHHESSQNG, EGFEYGR ZEFPHMG ZMW, DEGG-ESIEEZEF SPWHE IBTSE DBT OWTD BPZ\n",
    "VPLE BPZ IBPS ZMYO TQ IBEPY MJJYEHPMIPTW.\"\n",
    "  \"VTTF!\" SMPF BTGZES. \"EUHEGGEWI!\"\n",
    "  \"P IBPWO MGST IBMI IBE JYTXMXPGPIR PS PW QMLTNY TQ BPS XEPWV M HTNWIYR JYMHIPIPTWEY\n",
    "DBT FTES M VYEMI FEMG TQ BPS LPSPIPWV TW QTTI.\"\n",
    "  \"DBR ST?\"\n",
    "  \"XEHMNSE IBPS SIPHO, IBTNVB TYPVPWMGGR M LEYR BMWFSTZE TWE BMS XEEW ST OWTHOEF MXTNI\n",
    "IBMI P HMW BMYFGR PZMVPWE M ITDW JYMHIPIPTWEY HMYYRPWV PI. IBE IBPHO-PYTW QEYYNGE PS\n",
    "DTYW FTDW, ST PI PS ELPFEWI IBMI BE BMS FTWE M VYEMI MZTNWI TQ DMGOPWV DPIB PI.\"\n",
    "  \"JEYQEHIGR STNWF!\" SMPF BTGZES.\n",
    "  \"MWF IBEW MVMPW, IBEYE PS IBE 'QYPEWFS TQ IBE H.H.B.' P SBTNGF VNESS IBMI IT XE IBE\n",
    "STZEIBPWV BNWI, IBE GTHMG BNWI IT DBTSE ZEZXEYS BE BMS JTSSPXGR VPLEW STZE SNYVPHMG\n",
    "MSSPSIMWHE, MWF DBPHB BMS ZMFE BPZ M SZMGG JYESEWIMIPTW PW YEINYW.\"\n",
    "  \"YEMGGR, DMISTW, RTN EUHEG RTNYSEGQ,\" SMPF BTGZES, JNSBPWV XMHO BPS HBMPY MWF GPVBIPWV\n",
    "M HPVMYEIIE. \"PWIEYESIPWV, IBTNVB EGEZEWIMYR,\" SMPF BE MS BE YEINYWEF IT BPS QMLTNYPIE\n",
    "HTYWEY TQ IBE SEIIEE. \"IBEYE MYE HEYIMPWGR TWE TY IDT PWFPHMIPTWS NJTW IBE SIPHO.\n",
    "PI VPLES NS IBE XMSPS QTY SELEYMG FEFNHIPTWS.\"\n",
    "  \"BMS MWRIBPWV ESHMJEF ZE?\" P MSOEF DPIB STZE SEGQ-PZJTYIMWHE. \"P IYNSI IBMI IBEYE PS\n",
    "WTIBPWV TQ HTWSEANEWHE DBPHB P BMLE TLEYGTTOEF?\"\n",
    "  \"P MZ MQYMPF, ZR FEMY DMISTW, IBMI ZTSI TQ RTNY HTWHGNSPTWS DEYE EYYTWETNS.\"\n",
    "\"\"\""
   ]
  },
  {
   "cell_type": "markdown",
   "metadata": {},
   "source": [
    "Use [frequency analysis](https://en.wikipedia.org/wiki/Frequency_analysis) and for example the frequency of [bigrams](https://en.wikipedia.org/wiki/Bigram#Bigram_frequency_in_the_English_language)."
   ]
  },
  {
   "cell_type": "markdown",
   "metadata": {},
   "source": [
    "## email/twitter bot\n",
    "\n",
    "Most of the things you know are programmable. As an example projects, write a program that would get or send email messages, or perhaps make posts in twitter.\n",
    "\n",
    "\n",
    "## arxiv\n",
    "\n",
    "Can you count who authored the most papers on e.g. http://arxiv.org/archive/cond-mat in the last month?`"
   ]
  }
 ],
 "metadata": {
  "kernelspec": {
   "display_name": "Python 3",
   "language": "python",
   "name": "python3"
  },
  "language_info": {
   "codemirror_mode": {
    "name": "ipython",
    "version": 3
   },
   "file_extension": ".py",
   "mimetype": "text/x-python",
   "name": "python",
   "nbconvert_exporter": "python",
   "pygments_lexer": "ipython3",
   "version": "3.4.3+"
  }
 },
 "nbformat": 4,
 "nbformat_minor": 0
}
