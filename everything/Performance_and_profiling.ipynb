{
 "cells": [
  {
   "cell_type": "markdown",
   "metadata": {},
   "source": [
    "# The first rule of optimization\n",
    "\n",
    "> Premature optimization is the root of all evil.\n",
    ">\n",
    "> Donald Knuth\n",
    "\n",
    "So first get your code working! Maybe it's fast enough anyway and you're just wasting your time?\n",
    "\n",
    "# The second rule: profiling.\n",
    "\n",
    "Figure out what is the slowest part, and only change that part. Often you will find that only a small fraction of code takes most time. Equally often you will find that the part that you need to optimize isn't what you expect.\n",
    "\n",
    "The process of figuring out what is fast and what is slow is called *profiling*. There are s\n",
    "Now I will just show a simple example of how to do so.\n",
    "\n",
    "In Python there are several main tools for profiling:\n",
    "* A clock, or `timeit` built-in function that just measures how much time is spent in a piece of code.\n",
    "* the builtin module `cProfile`, which checks how much time is spent inside each **function**.\n",
    "* the `line_profiler` tool that measures time spent in each code line.\n",
    "\n",
    "Let's see all the three in action."
   ]
  },
  {
   "cell_type": "code",
   "execution_count": 1,
   "metadata": {
    "collapsed": false
   },
   "outputs": [
    {
     "name": "stdout",
     "output_type": "stream",
     "text": [
      "[sudo] password for jupyter: \u001b[33mYou are using pip version 7.1.0, however version 7.1.2 is available.\n",
      "You should consider upgrading via the 'pip install --upgrade pip' command.\u001b[0m\n",
      "Collecting line-profiler\n",
      "  Downloading line_profiler-1.0.tar.gz (65kB)\n",
      "\u001b[K    100% |████████████████████████████████| 69kB 3.9MB/s \n",
      "\u001b[?25hBuilding wheels for collected packages: line-profiler\n",
      "  Running setup.py bdist_wheel for line-profiler\n",
      "  Stored in directory: /home/jupyter/.cache/pip/wheels/42/e9/3a/aa5d3b6dbae0c78dd50300cb0f391f8153a3d907aacf655c87\n",
      "Successfully built line-profiler\n",
      "Installing collected packages: line-profiler\n",
      "Successfully installed line-profiler-1.0\n"
     ]
    }
   ],
   "source": [
    "# We need to install the line profiler\n",
    "# pip3 is the python package manager that installs different packages\n",
    "# Putting exclamation mark in Jupyter notebooks just executes commands in shell, try running \"!ls\"\n",
    "\n",
    "!echo jupyter|sudo -S pip3 install line_profiler"
   ]
  },
  {
   "cell_type": "code",
   "execution_count": 4,
   "metadata": {
    "collapsed": false
   },
   "outputs": [],
   "source": [
    "# Load the line profiler into the notebook\n",
    "import line_profiler\n",
    "%load_ext line_profiler "
   ]
  },
  {
   "cell_type": "code",
   "execution_count": 10,
   "metadata": {
    "collapsed": false
   },
   "outputs": [],
   "source": [
    "# Code that we're going to profile\n",
    "\n",
    "def square(valuelist):\n",
    "    return [value**2 for value in valuelist]\n",
    "\n",
    "def compute_sum(max_number):\n",
    "    a = range(max_number)\n",
    "    a = square(a)\n",
    "    sum(a)\n",
    "    return a"
   ]
  },
  {
   "cell_type": "code",
   "execution_count": 11,
   "metadata": {
    "collapsed": false
   },
   "outputs": [
    {
     "name": "stdout",
     "output_type": "stream",
     "text": [
      "1000 loops, best of 3: 363 µs per loop\n",
      "1 loops, best of 3: 369 ms per loop\n"
     ]
    }
   ],
   "source": [
    "# Measure how long the computation runs\n",
    "\n",
    "%timeit compute_sum(1000)\n",
    "%timeit compute_sum(1000000)"
   ]
  },
  {
   "cell_type": "markdown",
   "metadata": {},
   "source": [
    "Useful to compare different versions of the function, but not very telling about which parts are fast"
   ]
  },
  {
   "cell_type": "code",
   "execution_count": 12,
   "metadata": {
    "collapsed": false
   },
   "outputs": [
    {
     "name": "stdout",
     "output_type": "stream",
     "text": [
      " \n",
      "*** Profile printout saved to text file 'output'. \n",
      "         1000007 function calls in 1.805 seconds\n",
      "\n",
      "   Ordered by: internal time\n",
      "\n",
      "   ncalls  tottime  percall  cumtime  percall filename:lineno(function)\n",
      "  1000001    1.082    0.000    1.082    0.000 <ipython-input-10-2816b731c858>:4(<genexpr>)\n",
      "        1    0.723    0.723    1.805    1.805 {built-in method sum}\n",
      "        1    0.000    0.000    1.805    1.805 {built-in method exec}\n",
      "        1    0.000    0.000    1.805    1.805 <ipython-input-10-2816b731c858>:6(compute_sum)\n",
      "        1    0.000    0.000    1.805    1.805 <string>:1(<module>)\n",
      "        1    0.000    0.000    0.000    0.000 <ipython-input-10-2816b731c858>:3(square)\n",
      "        1    0.000    0.000    0.000    0.000 {method 'disable' of '_lsprof.Profiler' objects}"
     ]
    }
   ],
   "source": [
    "%prun -T output -q compute_sum(1000000)\n",
    "!cat output"
   ]
  },
  {
   "cell_type": "markdown",
   "metadata": {},
   "source": [
    "We see how many times each function was called and how much time it costed."
   ]
  },
  {
   "cell_type": "code",
   "execution_count": 13,
   "metadata": {
    "collapsed": false
   },
   "outputs": [],
   "source": [
    "# Output pops up in pager.!rm output\n",
    "\n",
    "%lprun -f compute_sum -f square compute_sum(1000000)"
   ]
  },
  {
   "cell_type": "markdown",
   "metadata": {},
   "source": [
    "## Task\n",
    "\n",
    "Change square brackets inside the function `square` into round brackets. Compare the performance. Can you figure out what is happening?"
   ]
  },
  {
   "cell_type": "markdown",
   "metadata": {},
   "source": [
    "# The third rule of optimization: understand what is happening.\n",
    "\n",
    "In order to write faster code you need to know what exactly is happening. This depends on the language you use, and on the algorithm you implement. More about this in a separate topic (or google for things like `optimized Python code`)."
   ]
  }
 ],
 "metadata": {
  "kernelspec": {
   "display_name": "Python 3",
   "language": "python",
   "name": "python3"
  },
  "language_info": {
   "codemirror_mode": {
    "name": "ipython",
    "version": 3
   },
   "file_extension": ".py",
   "mimetype": "text/x-python",
   "name": "python",
   "nbconvert_exporter": "python",
   "pygments_lexer": "ipython3",
   "version": "3.4.0"
  }
 },
 "nbformat": 4,
 "nbformat_minor": 0
}
