{
 "cells": [
  {
   "cell_type": "code",
   "execution_count": 1,
   "metadata": {
    "collapsed": false
   },
   "outputs": [],
   "source": [
    "import socket\n",
    " \n",
    "host=\"131.180.32.69\"\n",
    "port = 5611\n",
    "bufsize=1024\n",
    "\n",
    "            "
   ]
  },
  {
   "cell_type": "code",
   "execution_count": 2,
   "metadata": {
    "collapsed": false
   },
   "outputs": [
    {
     "name": "stdout",
     "output_type": "stream",
     "text": [
      "b'STAT:VOL:1.52638289133V'\n"
     ]
    }
   ],
   "source": [
    "message=bytes('READ:VOL', 'utf-8')\n",
    "\n",
    "'''\n",
    "Four Point Measurement\n",
    "Commands accepted:\n",
    "\n",
    "READ:\n",
    "    VOL\n",
    "    RES\n",
    "    CUR\n",
    "\n",
    "SET:\n",
    "    CUR\n",
    "'''\n",
    "r=''\n",
    "sock = socket.socket(socket.AF_INET, socket.SOCK_STREAM)\n",
    "sock.connect((host, port))\n",
    "sock.send(message)\n",
    "r = sock.recv(bufsize)\n",
    "sock.shutdown(2)\n",
    "sock.close()\n",
    "\n",
    "print(r)"
   ]
  },
  {
   "cell_type": "code",
   "execution_count": null,
   "metadata": {
    "collapsed": true
   },
   "outputs": [],
   "source": []
  }
 ],
 "metadata": {
  "kernelspec": {
   "display_name": "Python 3",
   "language": "python",
   "name": "python3"
  },
  "language_info": {
   "codemirror_mode": {
    "name": "ipython",
    "version": 3
   },
   "file_extension": ".py",
   "mimetype": "text/x-python",
   "name": "python",
   "nbconvert_exporter": "python",
   "pygments_lexer": "ipython3",
   "version": "3.4.0"
  }
 },
 "nbformat": 4,
 "nbformat_minor": 0
}
