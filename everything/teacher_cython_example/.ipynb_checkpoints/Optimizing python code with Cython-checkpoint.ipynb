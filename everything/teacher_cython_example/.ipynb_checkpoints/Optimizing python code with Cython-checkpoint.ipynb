{
 "cells": [
  {
   "cell_type": "markdown",
   "metadata": {},
   "source": [
    "# Optimizing python code with Cython\n",
    "\n",
    "\n",
    "In the lecture on profiling python code you have learned how to identfiy which parts of your code are most time-consuming. \n",
    "\n",
    "*Usually this will be only a very small part of your code*\n",
    "\n",
    "It is thus this small piece of code you need to optimize. Essentially, the key to success is to replace the pure python code with code that is written in a faster, compiled language.\n",
    "\n",
    "You can do this by directly interfacing to C or Fortran code - Jos will tell you about this in his lecture on ``f2py``. Here we will discuss ways where we only do minimal changes to python code, either using numpy or cython."
   ]
  },
  {
   "cell_type": "markdown",
   "metadata": {},
   "source": [
    "## The easy, but restricted way - numpy"
   ]
  },
  {
   "cell_type": "markdown",
   "metadata": {},
   "source": [
    "Let us revisit the example of the profiling lecture yesterday, and consider this pure python code:"
   ]
  },
  {
   "cell_type": "code",
   "execution_count": 1,
   "metadata": {
    "collapsed": true
   },
   "outputs": [],
   "source": [
    "import numpy as np\n",
    "Nmax = 100000"
   ]
  },
  {
   "cell_type": "code",
   "execution_count": 2,
   "metadata": {
    "collapsed": true
   },
   "outputs": [],
   "source": [
    "def compute_sum(values):\n",
    "    def square(valuelist):\n",
    "        return [value**2 for value in valuelist]\n",
    "\n",
    "    a = square(values)\n",
    "    a = sum(a)\n",
    "    return a"
   ]
  },
  {
   "cell_type": "code",
   "execution_count": 3,
   "metadata": {
    "collapsed": false
   },
   "outputs": [
    {
     "name": "stdout",
     "output_type": "stream",
     "text": [
      "10 loops, best of 3: 37.9 ms per loop\n"
     ]
    }
   ],
   "source": [
    "%timeit compute_sum(range(Nmax))"
   ]
  },
  {
   "cell_type": "markdown",
   "metadata": {},
   "source": [
    "If you want to have a code that works for arbitrary python list-like objects, then it is unavoidable to use pure python.\n",
    "\n",
    "Things do look different though, when I only want to work on special objects, such as numpy arrays:"
   ]
  },
  {
   "cell_type": "code",
   "execution_count": null,
   "metadata": {
    "collapsed": false
   },
   "outputs": [],
   "source": [
    "%timeit compute_sum(np.arange(Nmax, dtype=float))"
   ]
  },
  {
   "cell_type": "markdown",
   "metadata": {},
   "source": [
    "Now let us achieve the same result using ``numpy`` functionality: "
   ]
  },
  {
   "cell_type": "code",
   "execution_count": null,
   "metadata": {
    "collapsed": true
   },
   "outputs": [],
   "source": [
    "def compute_sum(values):\n",
    "    a = np.square(values)\n",
    "    a = np.sum(a)\n",
    "    return a"
   ]
  },
  {
   "cell_type": "code",
   "execution_count": null,
   "metadata": {
    "collapsed": false,
    "scrolled": true
   },
   "outputs": [],
   "source": [
    "%timeit compute_sum(np.arange(Nmax, dtype=float))"
   ]
  },
  {
   "cell_type": "markdown",
   "metadata": {},
   "source": [
    "The reason for this speed-up is that numpy internally is based on compiled C-code. In most cases it is thus the best way to optimize your code by trying to *numpify* your code as much as possible.\n",
    "\n",
    "Sometimes, the code might be too complex, and a more general approach is needed"
   ]
  },
  {
   "cell_type": "markdown",
   "metadata": {},
   "source": [
    "## The manual, but general way - Cython\n",
    "\n",
    "Cython is an extension to the python language that allows to add certain definitions to python code. This then allows cython to build optimized C-code, that is then compiled into a python module.\n",
    "\n",
    "The normal workflow is as follows:\n",
    "\n",
    "cython file ``abc.pyx`` $\\xrightarrow{\\texttt{cython}}$ C-file ``abc.c`` $\\xrightarrow{\\texttt{gcc/...}}$ Python module\n",
    "\n",
    "You can do this from the command line/shell but for the current purpose we use the cython integration of the ipython notebook. To this end call:"
   ]
  },
  {
   "cell_type": "code",
   "execution_count": null,
   "metadata": {
    "collapsed": false
   },
   "outputs": [],
   "source": [
    "%load_ext Cython"
   ]
  },
  {
   "cell_type": "markdown",
   "metadata": {},
   "source": [
    "We can now use Cython in the notebook using the ``%%cython`` cell magic. It is important to be aware though that a cell starting with ``%%cython`` is very different from a normal ipython cell, as it in fact acts like a separate module. The reason for this is that it does for you the above mentioned workflow, and in fact makes a separate python module.\n",
    "\n",
    "So for example, this does not work:"
   ]
  },
  {
   "cell_type": "code",
   "execution_count": null,
   "metadata": {
    "collapsed": true
   },
   "outputs": [],
   "source": [
    "import numpy as np"
   ]
  },
  {
   "cell_type": "code",
   "execution_count": null,
   "metadata": {
    "collapsed": false
   },
   "outputs": [],
   "source": [
    "%%cython\n",
    "print(np.sqrt(2.0))"
   ]
  },
  {
   "cell_type": "markdown",
   "metadata": {},
   "source": [
    "since the name ``np`` is not known in the module generated by cython. The other cells however do see (most) things defined in a ``%%cython`` cell:"
   ]
  },
  {
   "cell_type": "code",
   "execution_count": null,
   "metadata": {
    "collapsed": true
   },
   "outputs": [],
   "source": [
    "%%cython\n",
    "string = \"This is in the Cython module\""
   ]
  },
  {
   "cell_type": "code",
   "execution_count": null,
   "metadata": {
    "collapsed": false
   },
   "outputs": [],
   "source": [
    "print(string)"
   ]
  },
  {
   "cell_type": "markdown",
   "metadata": {},
   "source": [
    "The reason is that the cython module is automatically imported into your notebook by the %%cython magic.\n",
    "\n",
    "So remember: using cython only from the notebook is convenient, but you have to be aware that the ``%%cython`` cells do not see things defined in the outside, but the outside these things defined in the ``%%cython`` cells."
   ]
  },
  {
   "cell_type": "markdown",
   "metadata": {},
   "source": [
    "Now let's see what happens if we turn python code to C using cython:"
   ]
  },
  {
   "cell_type": "code",
   "execution_count": null,
   "metadata": {
    "collapsed": true
   },
   "outputs": [],
   "source": [
    "%%cython\n",
    "def compute_sum(values):\n",
    "    def square(valuelist):\n",
    "        return [value**2 for value in valuelist]\n",
    "\n",
    "    a = square(values)\n",
    "    a = sum(a)\n",
    "    return a"
   ]
  },
  {
   "cell_type": "code",
   "execution_count": null,
   "metadata": {
    "collapsed": false
   },
   "outputs": [],
   "source": [
    "%timeit compute_sum(np.arange(Nmax, dtype=float))"
   ]
  },
  {
   "cell_type": "markdown",
   "metadata": {},
   "source": [
    "We hardly see any difference. Lesson 1: Cython is not magic."
   ]
  },
  {
   "cell_type": "markdown",
   "metadata": {},
   "source": [
    "To make things more efficient, we need to help Cython make more efficient C-code. Typically, this means you avoid python concepts such as list comprehension. Also, we can do both the sum and the squaring in one loop:"
   ]
  },
  {
   "cell_type": "code",
   "execution_count": null,
   "metadata": {
    "collapsed": false
   },
   "outputs": [],
   "source": [
    "%%cython\n",
    "def compute_sum(values):\n",
    "    N = values.shape[0]\n",
    "    \n",
    "    result = 0\n",
    "    for i in range(N):\n",
    "        result += values[i] * values[i]\n",
    "        \n",
    "    return result"
   ]
  },
  {
   "cell_type": "code",
   "execution_count": null,
   "metadata": {
    "collapsed": false
   },
   "outputs": [],
   "source": [
    "%timeit compute_sum(np.arange(Nmax, dtype=float))"
   ]
  },
  {
   "cell_type": "markdown",
   "metadata": {},
   "source": [
    "This part did not help much yet, but it's a start. The reason why cython is slow here, is that it still keeps all the python generality, for example that variables can change type, that there is a boundary check on the arrays, etc.\n",
    "\n",
    "A good way to check how effective cython can convert python to C is by using ``%%cython --annotate`` (or ``%%cython -a``):"
   ]
  },
  {
   "cell_type": "code",
   "execution_count": null,
   "metadata": {
    "collapsed": false
   },
   "outputs": [],
   "source": [
    "%%cython --annotate\n",
    "def compute_sum(values):\n",
    "    N = values.shape[0]\n",
    "    \n",
    "    result = 0\n",
    "    for i in range(N):\n",
    "        result += values[i] * values[i]\n",
    "        \n",
    "    return result"
   ]
  },
  {
   "cell_type": "markdown",
   "metadata": {},
   "source": [
    "The more yellow a line, the more python overhead is there!\n",
    "\n",
    "We can do better by specifying with cython that certain variables will always be floats:"
   ]
  },
  {
   "cell_type": "code",
   "execution_count": null,
   "metadata": {
    "collapsed": false
   },
   "outputs": [],
   "source": [
    "%%cython --annotate\n",
    "def compute_sum(values):\n",
    "    cdef double result\n",
    "    cdef int i, N\n",
    "    \n",
    "    N = values.shape[0]\n",
    "    \n",
    "    result = 0\n",
    "    for i in range(N):\n",
    "        result += values[i] * values[i]\n",
    "        \n",
    "    return result"
   ]
  },
  {
   "cell_type": "code",
   "execution_count": null,
   "metadata": {
    "collapsed": false
   },
   "outputs": [],
   "source": [
    "%timeit compute_sum(np.arange(Nmax, dtype=float))"
   ]
  },
  {
   "cell_type": "markdown",
   "metadata": {},
   "source": [
    "We already do better. We can even do better by giving the function argument a type. We specify that it has to be a numpy array (with C-ordered memory). Then, cython\n",
    "knows that the  array is stored in a C-like fashion in memory, and can\n",
    "do much better:"
   ]
  },
  {
   "cell_type": "code",
   "execution_count": null,
   "metadata": {
    "collapsed": false,
    "scrolled": true
   },
   "outputs": [],
   "source": [
    "%%cython --annotate\n",
    "cimport numpy as np\n",
    "\n",
    "def compute_sum(double[::1] values):\n",
    "    cdef double result, val\n",
    "    cdef int i, N\n",
    "    \n",
    "    N = values.shape[0]\n",
    "    \n",
    "    result = 0\n",
    "    for i in range(N):\n",
    "        result += values[i] * values[i]\n",
    "        \n",
    "    return result"
   ]
  },
  {
   "cell_type": "code",
   "execution_count": null,
   "metadata": {
    "collapsed": false
   },
   "outputs": [],
   "source": [
    "%timeit compute_sum(np.arange(Nmax, dtype=float))"
   ]
  },
  {
   "cell_type": "markdown",
   "metadata": {},
   "source": [
    "We do see a gigantic improvement! \n",
    "\n",
    "There is still a little bit of yellow in the line ``result += values[i] * values[i]``. The reason is that although cython uses the fact that C-like memory is used, it still performs all the python checking if the indices are in the right range, and allows for negative indices, etc.\n",
    "\n",
    "We can switch this functionality off:"
   ]
  },
  {
   "cell_type": "code",
   "execution_count": null,
   "metadata": {
    "collapsed": false
   },
   "outputs": [],
   "source": [
    "%%cython --annotate\n",
    "cimport numpy as np\n",
    "cimport cython\n",
    "\n",
    "@cython.boundscheck(False)\n",
    "@cython.wraparound(False)\n",
    "def compute_sum(double[::1] values):\n",
    "    cdef double result, val\n",
    "    cdef int i, N\n",
    "    \n",
    "    N = values.shape[0]\n",
    "    \n",
    "    result = 0\n",
    "    for i in range(N):\n",
    "        result += values[i]*values[i]\n",
    "        \n",
    "    return result"
   ]
  },
  {
   "cell_type": "code",
   "execution_count": null,
   "metadata": {
    "collapsed": false
   },
   "outputs": [],
   "source": [
    "%timeit compute_sum(np.arange(Nmax, dtype=float))"
   ]
  },
  {
   "cell_type": "markdown",
   "metadata": {},
   "source": [
    "Now all the central code is white (no python overhead any more). In that particular example, the bound checking had little overhead (it could be that the compiler optimized it away, actually). For more complicated code it can make quite a difference.\n",
    "\n",
    "Note however that when you turn off bounds checking, you trade in safety. For example, you could now easily write code that overwrites memory: Try for example to replace ``range(N)`` by ``range(2 * N)``. In this cade your code will crash, **and** kill the whole ipython kernel with it, losing all the results of the notebook. So, be careful."
   ]
  },
  {
   "cell_type": "markdown",
   "metadata": {},
   "source": [
    "Finally, we can also program the complete routine in C, see file ``compute_sum.c``. Then, cython is still nice at it allows us to interface to this function easily:"
   ]
  },
  {
   "cell_type": "code",
   "execution_count": null,
   "metadata": {
    "collapsed": false
   },
   "outputs": [],
   "source": [
    "%%cython --link-args compute_sum.o\n",
    "\n",
    "cdef extern double compute_sum_c(double *, int)\n",
    " \n",
    "def compute_sum(double[::1] values):\n",
    "    cdef int N\n",
    "    cdef double result\n",
    "    \n",
    "    N = values.shape[0]\n",
    "    result = compute_sum_c(&values[0], N)\n",
    "    \n",
    "    return result"
   ]
  },
  {
   "cell_type": "code",
   "execution_count": null,
   "metadata": {
    "collapsed": false
   },
   "outputs": [],
   "source": [
    "%timeit compute_sum(np.arange(Nmax, dtype=float))"
   ]
  },
  {
   "cell_type": "markdown",
   "metadata": {
    "collapsed": true
   },
   "source": [
    "For the current problem, we see no improvement, cython itself was already optimal.\n",
    "\n",
    "Using this functionality of cython, that it can wrap external code, is also very useful if you want to use an external library within python. Then you can write a simple wrapper using cython. This works for libraries written in C, C++ or Fortran. You can find more documentation in the tutorials at http://docs.cython.org/index.html.\n",
    "\n",
    "Note that then you wouldn't want to do the development in the notebook, but rather compile a cython module. Again, you will find documentation at the cython web page."
   ]
  },
  {
   "cell_type": "code",
   "execution_count": null,
   "metadata": {
    "collapsed": true
   },
   "outputs": [],
   "source": []
  }
 ],
 "metadata": {
  "kernelspec": {
   "display_name": "Python 3",
   "language": "python",
   "name": "python3"
  },
  "language_info": {
   "codemirror_mode": {
    "name": "ipython",
    "version": 3
   },
   "file_extension": ".py",
   "mimetype": "text/x-python",
   "name": "python",
   "nbconvert_exporter": "python",
   "pygments_lexer": "ipython3",
   "version": "3.4.0"
  }
 },
 "nbformat": 4,
 "nbformat_minor": 0
}
