{
 "cells": [
  {
   "cell_type": "markdown",
   "metadata": {},
   "source": [
    "# Structuring python code\n",
    "\n",
    "We have learned the basics of python by now, and have seen how to use various python concepts and powerful libraries from ipython notebooks. This is a perfectly viable way to work, as long as projects are not too complicated. \n",
    "\n",
    "Real-life projects however usually turn out to be more complex, with code accumulating over time. In this case structuring your code is vital."
   ]
  },
  {
   "cell_type": "markdown",
   "metadata": {},
   "source": [
    "## Python modules\n",
    "\n",
    "### Collecting commonly used code\n",
    "\n",
    "Typically, in your project you will develop some core functionality that you will use over and over again - for example some function\n",
    "\n",
    "    def do_some_fancy_stuff(arguments):\n",
    "        ...\n",
    "\n",
    "You then use this function for many purposes. Over time, you will have several notebooks using it, and then you would need to copy the function and all related code to each notebook!\n",
    "\n",
    "This is not practical, and error prone.\n",
    "\n",
    "In this case you should put the function and all related code into a python `module`. This means you put the code in some text file with a name ending in ``.py``, let's say\n",
    "``module.py``. Then you can use this function in any notebook you want by importing the module:\n",
    "\n",
    "    import module\n",
    "    \n",
    "    module.do_some_fancy_stuff(...)\n",
    "    \n",
    "Alternatively, you can also write\n",
    "\n",
    "    from module import do_some_fancy_stuff\n",
    "    \n",
    "    do_some_fancy_stuff(...)\n",
    "\n",
    "but you already saw that syntax in the basic introduction in ``from math import ...``.\n",
    "\n",
    "### Separation in different namespaces\n",
    "\n",
    "Another advantage of modules is that it helps you to avoid errors that may arise if too much code gets intermixed. Say you have code like this:"
   ]
  },
  {
   "cell_type": "code",
   "execution_count": 6,
   "metadata": {
    "collapsed": true
   },
   "outputs": [],
   "source": [
    "c = 1\n",
    "\n",
    "def f(x):\n",
    "    return c * x"
   ]
  },
  {
   "cell_type": "markdown",
   "metadata": {},
   "source": [
    "The function ``f(x)`` depends on a global variable ``c``. Now say you write a lot of code inbetween, and you define the variable ``c`` for some other purpose overwriting it by accident (you forgot it was even used before). Then you will change the behavior of ``f(x)``! Try that below"
   ]
  },
  {
   "cell_type": "code",
   "execution_count": 7,
   "metadata": {
    "collapsed": false
   },
   "outputs": [
    {
     "data": {
      "text/plain": [
       "1"
      ]
     },
     "execution_count": 7,
     "metadata": {},
     "output_type": "execute_result"
    }
   ],
   "source": [
    "f(1)"
   ]
  },
  {
   "cell_type": "code",
   "execution_count": 8,
   "metadata": {
    "collapsed": false
   },
   "outputs": [
    {
     "data": {
      "text/plain": [
       "2"
      ]
     },
     "execution_count": 8,
     "metadata": {},
     "output_type": "execute_result"
    }
   ],
   "source": [
    "c = 2\n",
    "f(1)"
   ]
  },
  {
   "cell_type": "markdown",
   "metadata": {},
   "source": [
    "If you separate the code into a module ``module.py`` which reads\n",
    "\n",
    "    c = 1\n",
    "    \n",
    "    def f(x):\n",
    "        return c * x\n",
    "        \n",
    "and you use it as\n",
    "\n",
    "    import module\n",
    "    \n",
    "    module.f(1)\n",
    "    \n",
    "    c = 2\n",
    "    \n",
    "    module.f(1)\n",
    "\n",
    "then no problem arises. ``f`` uses the variable ``c`` from the namespace of the module, whereas you used the variable ``c`` from the namespace of your notebook. You could stil change ``c`` in the module, but then you need to write ``module.c = 2`` - which makes it immediately clear what you do.\n",
    "\n",
    "Namespaces are a powerful concept in python. They also apply for example to functions - if you write"
   ]
  },
  {
   "cell_type": "code",
   "execution_count": 10,
   "metadata": {
    "collapsed": false
   },
   "outputs": [],
   "source": [
    "c = 1\n",
    "\n",
    "def f(x):\n",
    "    c = 2\n",
    "    return c * x"
   ]
  },
  {
   "cell_type": "code",
   "execution_count": 14,
   "metadata": {
    "collapsed": false
   },
   "outputs": [
    {
     "name": "stdout",
     "output_type": "stream",
     "text": [
      "2\n",
      "2\n"
     ]
    }
   ],
   "source": [
    "c = 1\n",
    "print(f(1))\n",
    "c = 3\n",
    "print(f(1))"
   ]
  },
  {
   "cell_type": "markdown",
   "metadata": {},
   "source": [
    "then the variable ``c`` within the definition of ``f(x)`` is used. Note however that in this case you cannot access the variable c as ``f.c`` (try what happens if you do that). \n",
    "\n",
    "This was a simple example of nested namespaces. If you want to know more, then google it!"
   ]
  },
  {
   "cell_type": "markdown",
   "metadata": {},
   "source": [
    "## Docstrings\n",
    "\n",
    "If your code becomes more and more complex, you need to add documentation. A convenient way in python is to add documentation directly to the function by wrting a string directly after the function definition:"
   ]
  },
  {
   "cell_type": "code",
   "execution_count": 25,
   "metadata": {
    "collapsed": true
   },
   "outputs": [],
   "source": [
    "def f(x, y):\n",
    "    \"\"\"This is a function that does bla bla ...\n",
    "    \n",
    "    Parameters\n",
    "    ----------\n",
    "    x : value for bla bla\n",
    "    y : value for bla bla\n",
    "    \n",
    "    Returns\n",
    "    -------\n",
    "    z : some value that depends on x and y\n",
    "    \"\"\"\n",
    "    pass"
   ]
  },
  {
   "cell_type": "markdown",
   "metadata": {},
   "source": [
    "You can then access the documentation from the ipython notebook simply by writing\n",
    "\n",
    "- ``f`` and hitting `SHIFT + TAB` to show the first part of the docstring\n",
    "- ``f?`` or ``help(f)`` to get the full docstring\n",
    "\n",
    "You can also add a docstring to the top of a module file."
   ]
  },
  {
   "cell_type": "markdown",
   "metadata": {},
   "source": [
    "## Testing\n",
    "\n",
    "Especially if code becomes more and more complex, a increadibly useful tool are unittests. \n",
    "\n",
    "It is very easy and common for everybody, even the most experienced programmer, to introduce bugs in your code while working on it. Often those bugs may not affect what you are doing now, but break some stuff you did before! On many occasions you can catch these problems by writing tests alongside your code.\n",
    "\n",
    "(In principle, there are several frameworks for keeping track of tests in python - we are using ``nose``, which is the most common and comfortable one)\n",
    "\n",
    "What you have to do is simple: When you wrote some code in a module, add another python file that starts with ``test_``, and add a function to it that starts with ``test_`` (that's easy to remember, right;). For example, in the module ``module.py`` you might have:\n",
    "\n",
    "    def add_together(x, y):\n",
    "        return x + y\n",
    "\n",
    "In ``test_module.py`` you would write:\n",
    "\n",
    "    import module\n",
    "    \n",
    "    def test_add_together():\n",
    "        assert add_together(1, 2) == 3\n",
    "        assert add_together(\"abc\", \"def\") == \"abcdef\"\n",
    "        \n",
    "We introduced a new statement, ``assert``. Let's check here in the notebook, what it does:"
   ]
  },
  {
   "cell_type": "code",
   "execution_count": 27,
   "metadata": {
    "collapsed": true
   },
   "outputs": [],
   "source": [
    "assert 1 == 1"
   ]
  },
  {
   "cell_type": "markdown",
   "metadata": {},
   "source": [
    "Nothing happens in this case. But now let's see what happens if we assert a statement that is not true:"
   ]
  },
  {
   "cell_type": "code",
   "execution_count": 28,
   "metadata": {
    "collapsed": false
   },
   "outputs": [
    {
     "ename": "AssertionError",
     "evalue": "",
     "output_type": "error",
     "traceback": [
      "\u001b[1;31m---------------------------------------------------------------------------\u001b[0m",
      "\u001b[1;31mAssertionError\u001b[0m                            Traceback (most recent call last)",
      "\u001b[1;32m<ipython-input-28-3c335fecdf31>\u001b[0m in \u001b[0;36m<module>\u001b[1;34m()\u001b[0m\n\u001b[1;32m----> 1\u001b[1;33m \u001b[1;32massert\u001b[0m \u001b[1;36m1\u001b[0m \u001b[1;33m<\u001b[0m \u001b[1;36m1\u001b[0m\u001b[1;33m\u001b[0m\u001b[0m\n\u001b[0m",
      "\u001b[1;31mAssertionError\u001b[0m: "
     ]
    }
   ],
   "source": [
    "assert 1 < 1"
   ]
  },
  {
   "cell_type": "markdown",
   "metadata": {},
   "source": [
    "In this case, an ``AssertionError`` is raised.\n",
    "\n",
    "The key is to introduce test functions that raise an ``AssertionError`` if something goes wrong. Usually, you do this using ``assert`` statements, but you can also make more\n",
    "complicated tests with ``if``'s etc., and raising the error manually:\n",
    "\n",
    "    raise AssertionError(\"some error message\")\n",
    "    \n",
    "So now you have a python file with lots of tests. You can run them all automatically by calling from the commandline \n",
    "\n",
    "    nosetests\n",
    "    \n",
    "within the folder containing the modules and tests. It will run all the tests you ever wrote, and show you all failures!\n",
    "\n",
    "To make these tests useful, you would want to run them as often as possible. When you design them, try to use them on as small problems as possible, so that they run *fast*. In this way, you will often run them, and catch many errors."
   ]
  },
  {
   "cell_type": "code",
   "execution_count": null,
   "metadata": {
    "collapsed": true
   },
   "outputs": [],
   "source": []
  }
 ],
 "metadata": {
  "kernelspec": {
   "display_name": "Python 3",
   "language": "python",
   "name": "python3"
  },
  "language_info": {
   "codemirror_mode": {
    "name": "ipython",
    "version": 3
   },
   "file_extension": ".py",
   "mimetype": "text/x-python",
   "name": "python",
   "nbconvert_exporter": "python",
   "pygments_lexer": "ipython3",
   "version": "3.4.3+"
  }
 },
 "nbformat": 4,
 "nbformat_minor": 0
}
