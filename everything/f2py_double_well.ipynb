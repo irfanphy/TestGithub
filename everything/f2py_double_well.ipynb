{
 "cells": [
  {
   "cell_type": "markdown",
   "metadata": {},
   "source": [
    "# Optimizing python code with f2py\n",
    "\n",
    "\n",
    "In the lecture on profiling python code you have learned how to identfiy which parts of your code are most time-consuming. \n",
    "\n",
    "*Usually this will be only a very small part of your code*\n",
    "\n",
    "It is thus this small piece of code you need to optimize. Essentially, the key to success is to replace the pure python code with code that is written in a faster, compiled language.\n",
    "\n",
    "You can do this by directly interfacing to C or Fortran code - Michael has discussed numpy and cython -- I will tell you about this in this lecture on ``f2py``. "
   ]
  },
  {
   "cell_type": "markdown",
   "metadata": {},
   "source": [
    "##When to use what?\n",
    "\n",
    "- If your intensive calculations involve arrays: numpy\n",
    "\n",
    "- If your intensive calculation involves optimization/root finding: scipy\n",
    "\n",
    "- If this all fails: cython or f2py\n",
    "\n",
    "This usually pertains to situations where very many steps need to be gone through successively.\n",
    "\n",
    "## Example: solving an equation of motion"
   ]
  },
  {
   "cell_type": "code",
   "execution_count": 1,
   "metadata": {
    "collapsed": false
   },
   "outputs": [],
   "source": [
    "import numpy as np\n",
    "import matplotlib.pyplot as plt\n",
    "%matplotlib inline"
   ]
  },
  {
   "cell_type": "code",
   "execution_count": 2,
   "metadata": {
    "collapsed": false
   },
   "outputs": [],
   "source": [
    "x = 1.0\n",
    "v = -np.sqrt(2)*0.5\n",
    "\n",
    "StepNum = 100000\n",
    "pos_array = np.ndarray((StepNum),dtype = float)\n",
    "\n",
    "def force(x):\n",
    "    \"\"\" This function returns the force acting on a mass at x.\n",
    "        The force is derived from a double well potential -0.5*x**2 + 0.25*x**4\n",
    "        input: x; position of the particle\n",
    "        output: force; the force acting on the particle\n",
    "    \"\"\"\n",
    "    return x - x**3\n",
    "    \n",
    "def move_part(x, v):    \n",
    "    h = 0.001 #h is the time step    \n",
    "    temp_f = force(x)\n",
    "    for t in range(StepNum):\n",
    "        v = v + 0.5*h*temp_f\n",
    "        x = x + h*v\n",
    "        temp_f = force(x)\n",
    "        v = v + 0.5*h*temp_f\n",
    "        pos_array[t] = x\n",
    "    return pos_array\n",
    "    "
   ]
  },
  {
   "cell_type": "code",
   "execution_count": 3,
   "metadata": {
    "collapsed": false
   },
   "outputs": [
    {
     "name": "stdout",
     "output_type": "stream",
     "text": [
      "10 loops, best of 3: 99.9 ms per loop\n"
     ]
    },
    {
     "data": {
      "image/png": "[encoded data removed]",
      "text/plain": [
       "<matplotlib.figure.Figure at 0x7f4dd5c9c050>"
      ]
     },
     "metadata": {},
     "output_type": "display_data"
    }
   ],
   "source": [
    "%timeit pos_array = move_part(x,v)\n",
    "pos_array = move_part(x,v)\n",
    "plt.plot(pos_array)\n",
    "plt.show()"
   ]
  },
  {
   "cell_type": "markdown",
   "metadata": {},
   "source": [
    "##f2py howto\n",
    "\n",
    "- Write your fortran routines (here: verlet.f90)\n",
    "\n",
    "- compile using \n",
    "        f2py -c --f90flags=\"...\" verlet.f90 -m verlet\n",
    "        \n",
    "This produces: verlet.so\n",
    "\n",
    "- In your python file: \n",
    "        import verlet\n",
    "        \n",
    "- For the interface:\n",
    "        print (verlet.verlet.__doc__)\n",
    "        \n",
    "- Using this, you can make calls to the routines in the fortran-compiled module        "
   ]
  },
  {
   "cell_type": "code",
   "execution_count": 7,
   "metadata": {
    "collapsed": false
   },
   "outputs": [
    {
     "name": "stdout",
     "output_type": "stream",
     "text": [
      "verlet(x,v,step_num,pos_array)\n",
      "\n",
      "Wrapper for ``verlet``.\n",
      "\n",
      "Parameters\n",
      "----------\n",
      "x : input float\n",
      "v : input float\n",
      "step_num : input int\n",
      "pos_array : input rank-1 array('d') with bounds (f2py_pos_array_d0)\n",
      "\n"
     ]
    }
   ],
   "source": [
    "import verlet\n",
    "print (verlet.verlet.__doc__)"
   ]
  },
  {
   "cell_type": "code",
   "execution_count": 8,
   "metadata": {
    "collapsed": false
   },
   "outputs": [
    {
     "name": "stdout",
     "output_type": "stream",
     "text": [
      "1000 loops, best of 3: 1.13 ms per loop\n"
     ]
    },
    {
     "data": {
      "image/png": "[encoded data removed]",
      "text/plain": [
       "<matplotlib.figure.Figure at 0x7f4dcee174d0>"
      ]
     },
     "metadata": {},
     "output_type": "display_data"
    }
   ],
   "source": [
    "x = 1.0\n",
    "v = -np.sqrt(2)*0.5\n",
    "pos_array = np.ndarray((StepNum),dtype = float)\n",
    "%timeit verlet.verlet(x,v,StepNum, pos_array)\n",
    "\n",
    "plt.plot(pos_array)\n",
    "plt.show()"
   ]
  },
  {
   "cell_type": "code",
   "execution_count": null,
   "metadata": {
    "collapsed": true
   },
   "outputs": [],
   "source": []
  },
  {
   "cell_type": "code",
   "execution_count": null,
   "metadata": {
    "collapsed": true
   },
   "outputs": [],
   "source": []
  }
 ],
 "metadata": {
  "kernelspec": {
   "display_name": "Python 2",
   "language": "python",
   "name": "python2"
  },
  "language_info": {
   "codemirror_mode": {
    "name": "ipython",
    "version": 2
   },
   "file_extension": ".py",
   "mimetype": "text/x-python",
   "name": "python",
   "nbconvert_exporter": "python",
   "pygments_lexer": "ipython2",
   "version": "2.7.6"
  }
 },
 "nbformat": 4,
 "nbformat_minor": 0
}
