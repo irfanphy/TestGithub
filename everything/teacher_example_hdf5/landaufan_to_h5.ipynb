{
 "cells": [
  {
   "cell_type": "code",
   "execution_count": null,
   "metadata": {
    "collapsed": false
   },
   "outputs": [],
   "source": [
    "import numpy as np\n",
    "from matplotlib import pyplot as plt\n",
    "%matplotlib inline"
   ]
  },
  {
   "cell_type": "code",
   "execution_count": null,
   "metadata": {
    "collapsed": true
   },
   "outputs": [],
   "source": [
    "def plot(X, Y, Rxx, RH):\n",
    "    cols = np.unique(X).shape[0]\n",
    "    Rxx = Rxx.reshape(-1, cols)\n",
    "    RH = RH.reshape(-1, cols)\n",
    "\n",
    "    fig = plt.figure(figsize=(16, 4))\n",
    "    \n",
    "    ax1 = fig.add_subplot(1, 2, 1)\n",
    "    im1 = ax1.imshow(Rxx, aspect='auto', origin='lower', extent=[min(X), max(X), min(Y), max(Y)])\n",
    "    ax1.set_xlabel('$X$')\n",
    "    ax1.set_ylabel('$Y$')\n",
    "    ax1.set_title('Rxx')\n",
    "    plt.colorbar(im1)\n",
    "\n",
    "    ax2 = fig.add_subplot(1, 2, 2)\n",
    "    im2 = ax2.imshow(RH, aspect='auto', origin='lower', extent=[min(X), max(X), min(Y), max(Y)])\n",
    "    ax2.set_xlabel('$X$')\n",
    "    ax2.set_ylabel('$Y$')\n",
    "    ax2.set_title('RH')\n",
    "    plt.colorbar(im2)\n",
    "    plt.show()"
   ]
  },
  {
   "cell_type": "markdown",
   "metadata": {},
   "source": [
    "# Getting previous data"
   ]
  },
  {
   "cell_type": "code",
   "execution_count": null,
   "metadata": {
    "collapsed": false
   },
   "outputs": [],
   "source": [
    "%%time\n",
    "data = np.loadtxt('landaufan.dat')"
   ]
  },
  {
   "cell_type": "code",
   "execution_count": null,
   "metadata": {
    "collapsed": false
   },
   "outputs": [],
   "source": [
    "print(data.shape)\n",
    "X = data[:, 0]\n",
    "Y = data[:, 1]\n",
    "Rxx = data[:, 3]\n",
    "RH = data[:, 4]"
   ]
  },
  {
   "cell_type": "code",
   "execution_count": null,
   "metadata": {
    "collapsed": false
   },
   "outputs": [],
   "source": [
    "plot(X, Y, Rxx, RH)"
   ]
  },
  {
   "cell_type": "markdown",
   "metadata": {},
   "source": [
    "# Saving in as HDF5"
   ]
  },
  {
   "cell_type": "markdown",
   "metadata": {},
   "source": [
    "## Creating storage file"
   ]
  },
  {
   "cell_type": "code",
   "execution_count": null,
   "metadata": {
    "collapsed": false
   },
   "outputs": [],
   "source": [
    "import h5py\n",
    "f = h5py.File('landaufan.h5', 'w')"
   ]
  },
  {
   "cell_type": "code",
   "execution_count": null,
   "metadata": {
    "collapsed": false
   },
   "outputs": [],
   "source": [
    "print('group name: ', f.name),\n",
    "print('contains: ', list(f.keys()))"
   ]
  },
  {
   "cell_type": "markdown",
   "metadata": {},
   "source": [
    "## Creating group for data"
   ]
  },
  {
   "cell_type": "code",
   "execution_count": null,
   "metadata": {
    "collapsed": false
   },
   "outputs": [],
   "source": [
    "grp = f.create_group('data')\n",
    "sub = grp.create_group('sub')"
   ]
  },
  {
   "cell_type": "code",
   "execution_count": null,
   "metadata": {
    "collapsed": false
   },
   "outputs": [],
   "source": [
    "print('Now main file contains:', list(f))         # list(f) == list(f.keys())\n",
    "print('and our group contains:', list(grp))"
   ]
  },
  {
   "cell_type": "code",
   "execution_count": null,
   "metadata": {
    "collapsed": false
   },
   "outputs": [],
   "source": [
    "print('sub name:', sub.name)"
   ]
  },
  {
   "cell_type": "code",
   "execution_count": null,
   "metadata": {
    "collapsed": false
   },
   "outputs": [],
   "source": [
    "del grp['sub']                          # removes sub from grp\n",
    "print('group contains:', list(grp))"
   ]
  },
  {
   "cell_type": "markdown",
   "metadata": {},
   "source": [
    "## Adding data"
   ]
  },
  {
   "cell_type": "code",
   "execution_count": null,
   "metadata": {
    "collapsed": true
   },
   "outputs": [],
   "source": [
    "grp['X'] = X\n",
    "grp['Y'] = Y\n",
    "grp['Rxx'] = Rxx\n",
    "grp['RH'] = RH"
   ]
  },
  {
   "cell_type": "code",
   "execution_count": null,
   "metadata": {
    "collapsed": false
   },
   "outputs": [],
   "source": [
    "print('Now group contains:', list(grp))"
   ]
  },
  {
   "cell_type": "code",
   "execution_count": null,
   "metadata": {
    "collapsed": false
   },
   "outputs": [],
   "source": [
    "def print_attrs(name, obj):\n",
    "    print(\"{:10} of type: {}\".format(name, type(obj)))\n",
    "\n",
    "f.visititems(print_attrs)"
   ]
  },
  {
   "cell_type": "markdown",
   "metadata": {},
   "source": [
    "## Datasets\n",
    "\n",
    "(are basically like numpy arrays)"
   ]
  },
  {
   "cell_type": "code",
   "execution_count": null,
   "metadata": {
    "collapsed": false
   },
   "outputs": [],
   "source": [
    "X = f['data/X']"
   ]
  },
  {
   "cell_type": "code",
   "execution_count": null,
   "metadata": {
    "collapsed": false
   },
   "outputs": [],
   "source": [
    "print(\"shape: {}, dtype: {}\".format(X.shape, X.dtype))\n",
    "print(\"elements: {}\".format(X[:5]))"
   ]
  },
  {
   "cell_type": "code",
   "execution_count": null,
   "metadata": {
    "collapsed": false
   },
   "outputs": [],
   "source": [
    "X = np.asarray(X)\n",
    "print(type(X), X[:5])"
   ]
  },
  {
   "cell_type": "markdown",
   "metadata": {},
   "source": [
    "### Remember to close your file"
   ]
  },
  {
   "cell_type": "code",
   "execution_count": null,
   "metadata": {
    "collapsed": false
   },
   "outputs": [],
   "source": [
    "f.close()"
   ]
  },
  {
   "cell_type": "markdown",
   "metadata": {},
   "source": [
    "# cleaner"
   ]
  },
  {
   "cell_type": "code",
   "execution_count": null,
   "metadata": {
    "collapsed": true
   },
   "outputs": [],
   "source": [
    "data = np.loadtxt('landaufan.dat')\n",
    "info = {'X': 0, 'Y': 1, 'Rxx': 3, 'RH': 4}"
   ]
  },
  {
   "cell_type": "code",
   "execution_count": null,
   "metadata": {
    "collapsed": false
   },
   "outputs": [],
   "source": [
    "%%time\n",
    "np.savetxt('landaufan.dat', data)"
   ]
  },
  {
   "cell_type": "code",
   "execution_count": null,
   "metadata": {
    "collapsed": false
   },
   "outputs": [],
   "source": [
    "%%time\n",
    "with h5py.File('landaufan.h5', 'w') as f:\n",
    "    f.attrs['info'] = 'Data used on Casimir Course'\n",
    "    \n",
    "    grp = f.create_group('data')\n",
    "    for k, v in info.items():\n",
    "        grp.attrs['info'] = 'Some comment on data'\n",
    "        grp[k] = data[:, v]"
   ]
  },
  {
   "cell_type": "markdown",
   "metadata": {},
   "source": [
    "# Let's load and check"
   ]
  },
  {
   "cell_type": "code",
   "execution_count": null,
   "metadata": {
    "collapsed": false
   },
   "outputs": [],
   "source": [
    "%%time\n",
    "with h5py.File('landaufan.h5', 'r') as f:\n",
    "    data = f['data']\n",
    "    X = data['X'][:]\n",
    "    Y = data['Y'][:]\n",
    "    Rxx = data['Rxx'][:]\n",
    "    RH = data['RH'][:]\n",
    "    \n",
    "    print(f.attrs['info'])\n",
    "    print(data.attrs['info'])\n",
    "    "
   ]
  },
  {
   "cell_type": "code",
   "execution_count": null,
   "metadata": {
    "collapsed": false
   },
   "outputs": [],
   "source": [
    "plot(X, Y, Rxx, RH)"
   ]
  }
 ],
 "metadata": {
  "kernelspec": {
   "display_name": "Python 3",
   "language": "python",
   "name": "python3"
  },
  "language_info": {
   "codemirror_mode": {
    "name": "ipython",
    "version": 3
   },
   "file_extension": ".py",
   "mimetype": "text/x-python",
   "name": "python",
   "nbconvert_exporter": "python",
   "pygments_lexer": "ipython3",
   "version": "3.4.0"
  }
 },
 "nbformat": 4,
 "nbformat_minor": 0
}
