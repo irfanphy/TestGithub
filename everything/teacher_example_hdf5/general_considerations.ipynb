{
 "cells": [
  {
   "cell_type": "markdown",
   "metadata": {},
   "source": [
    "# Save your data in efficient way"
   ]
  },
  {
   "cell_type": "markdown",
   "metadata": {},
   "source": [
    "During your research you will usually work with large data.\n",
    "\n",
    "It can be for example:\n",
    "* data that comes from an experiment\n",
    "* output of your long running simulation\n",
    "\n",
    "You want it to:\n",
    "* save it efficient way (compress to save disc space)\n",
    "* have fast read/write access\n",
    "* portable between platforms and programming languages"
   ]
  },
  {
   "cell_type": "markdown",
   "metadata": {},
   "source": [
    "# Two very common ways of doing that:"
   ]
  },
  {
   "cell_type": "markdown",
   "metadata": {},
   "source": [
    "## CSV\n",
    "\n",
    "A comma-separated values (CSV) file stores tabular data (numbers and text) in plain text. Each line of the file is a data record. Each record consists of one or more fields, separated by commas. The use of the comma as a field separator is the source of the name for this file format. (via wikipedia)\n",
    "\n",
    "Pros:\n",
    "* easy to read\n",
    "* very portable\n",
    "\n",
    "Cons:\n",
    "* slow\n",
    "* big"
   ]
  },
  {
   "cell_type": "markdown",
   "metadata": {},
   "source": [
    "## HDF5\n",
    "\n",
    "\n",
    "Hierarchical Data Format (HDF) is designed to store and organize large amounts of data. Provides very efficient read/write mechanism. Supported by The HDF Group, a non-profit corporation whose mission is to ensure continued development of HDF5 technologies and the continued accessibility of data stored in HDF. (via wikipedia)\n",
    "\n",
    "\n",
    "Interfaces: Java, MATLAB, Scilab, Octave, IDL, Python, R, and Julia\n",
    "\n",
    "Python interface [(h5py)]([h5py](http://docs.h5py.org/en/latest/quick.html)\n",
    "\n",
    "pros:\n",
    "* extremely efficient read/write mechanism\n",
    "* hierarchical structure (many data in one file)\n",
    "* long-term solution\n",
    "\n",
    "cons:\n",
    "* requires some effort to learn / ~20 mins of getting through docs :-)"
   ]
  },
  {
   "cell_type": "markdown",
   "metadata": {},
   "source": [
    "# [example](landaufan_to_h5.ipynb) "
   ]
  }
 ],
 "metadata": {
  "kernelspec": {
   "display_name": "Python 3",
   "language": "python",
   "name": "python3"
  },
  "language_info": {
   "codemirror_mode": {
    "name": "ipython",
    "version": 3
   },
   "file_extension": ".py",
   "mimetype": "text/x-python",
   "name": "python",
   "nbconvert_exporter": "python",
   "pygments_lexer": "ipython3",
   "version": "3.4.0"
  }
 },
 "nbformat": 4,
 "nbformat_minor": 0
}
